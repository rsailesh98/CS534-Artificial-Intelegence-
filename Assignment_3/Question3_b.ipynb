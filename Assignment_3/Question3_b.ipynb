{
 "cells": [
  {
   "cell_type": "code",
   "execution_count": 5,
   "metadata": {},
   "outputs": [],
   "source": [
    "from sklearn import datasets,metrics\n",
    "from sklearn.metrics import confusion_matrix\n",
    "from sklearn.cluster import AgglomerativeClustering\n",
    "import numpy as np"
   ]
  },
  {
   "cell_type": "code",
   "execution_count": 6,
   "metadata": {},
   "outputs": [],
   "source": [
    "X, y  = datasets.load_digits(return_X_y = True)\n",
    "n_samples, n_features = X.shape\n",
    "X.shape\n",
    "output = y\n",
    "\n",
    "clus = AgglomerativeClustering(linkage=\"ward\", n_clusters=10)\n",
    "clus.fit_predict(X)\n",
    "out = clus.labels_"
   ]
  },
  {
   "cell_type": "code",
   "execution_count": 8,
   "metadata": {},
   "outputs": [
    {
     "name": "stdout",
     "output_type": "stream",
     "text": [
      "[5, 3, 2, 7, 8, 4, 6, 0, 1, 1]\n"
     ]
    }
   ],
   "source": [
    "cluster = [[0 for x in range(out.shape[0])] for y in range(10)]\n",
    "cluster = np.array(cluster)\n",
    "for i in range(out.shape[0]):\n",
    "    k=0\n",
    "    for j in range(out.shape[0]):\n",
    "        if out[i] == out[j]:\n",
    "            cluster[out[i]][k] = output[j]\n",
    "            k = k+1\n",
    "        else:\n",
    "            cluster[out[i]][k] = -1\n",
    "            k = k+1\n",
    "          \n",
    "count = [[0 for x in range(cluster.shape[0])] for y in range(cluster.shape[0])]\n",
    "for i in range(cluster.shape[0]):\n",
    "    for j in range(cluster.shape[1]):\n",
    "        if cluster[i][j] != -1:\n",
    "            count[i][cluster[i][j]] = count[i][cluster[i][j]] + 1\n",
    "Labels_new=[]\n",
    "for i in range(cluster.shape[0]):\n",
    "    Labels_new.append(count[i].index(max(count[i])))\n",
    "    \n",
    "print(Labels_new)\n",
    "labels = []\n",
    "for i in range(out.shape[0]):\n",
    "    labels.append(Labels_new[out[i]])"
   ]
  },
  {
   "cell_type": "code",
   "execution_count": 10,
   "metadata": {},
   "outputs": [
    {
     "name": "stdout",
     "output_type": "stream",
     "text": [
      "Fowlkes Mallows score is  0.8321395046705492\n",
      "[[178   0   0   0   0   0   0   0   0  -1]\n",
      " [  0 155  27   0   0   0   0   0   0  -1]\n",
      " [  0   0 166   0   0   0   0   1  10  -1]\n",
      " [  0   0   0 169   0   0   0   1  13  -1]\n",
      " [  0   0   0   0 178   0   0   3   0  -1]\n",
      " [  0   0   0   2   0 179   1   0   0  -1]\n",
      " [  0   0   0   0   0   0 180   0   1  -1]\n",
      " [  0   0   0   0   0   0   0 179   0  -1]\n",
      " [  0   3   4   1   0   0   0   1 165  -1]\n",
      " [  0  20   0 145   0   2   0  11   2  -1]]\n"
     ]
    }
   ],
   "source": [
    "scores = metrics.fowlkes_mallows_score(output, labels)\n",
    "print(\"Fowlkes Mallows score is \",scores)\n",
    "confusion_Matrix = metrics.confusion_matrix(output, labels)\n",
    "confusion_Matrix[:,9] = [-1 for i in range(10)]\n",
    "print(confusion_Matrix)"
   ]
  },
  {
   "cell_type": "code",
   "execution_count": null,
   "metadata": {},
   "outputs": [],
   "source": []
  }
 ],
 "metadata": {
  "kernelspec": {
   "display_name": "Python 3",
   "language": "python",
   "name": "python3"
  },
  "language_info": {
   "codemirror_mode": {
    "name": "ipython",
    "version": 3
   },
   "file_extension": ".py",
   "mimetype": "text/x-python",
   "name": "python",
   "nbconvert_exporter": "python",
   "pygments_lexer": "ipython3",
   "version": "3.7.6"
  }
 },
 "nbformat": 4,
 "nbformat_minor": 4
}
