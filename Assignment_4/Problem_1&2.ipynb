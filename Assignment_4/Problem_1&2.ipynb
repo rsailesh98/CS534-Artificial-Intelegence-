{
 "cells": [
  {
   "cell_type": "code",
   "execution_count": 16,
   "metadata": {},
   "outputs": [],
   "source": [
    "import pandas as pd\n",
    "import numpy as np\n",
    "import itertools as it"
   ]
  },
  {
   "cell_type": "markdown",
   "metadata": {},
   "source": [
    "Defining class for Naives bayes for spam=1 and ham=0 according to class context"
   ]
  },
  {
   "cell_type": "code",
   "execution_count": 15,
   "metadata": {},
   "outputs": [],
   "source": [
    "def group_class(naive_bayes):\n",
    "    naive_bayes_class_0 = naive_bayes[naive_bayes['CLASS'] == 0]\n",
    "    naive_bayes_class_0 = naive_bayes_class_0.drop(columns=['CLASS'])\n",
    "    naive_bayes_class_1 = naive_bayes[naive_bayes['CLASS'] == 1]\n",
    "    naive_bayes_class_1 = naive_bayes_class_1.drop(columns=['CLASS'])\n",
    "    return naive_bayes_class_0, naive_bayes_class_1"
   ]
  },
  {
   "cell_type": "markdown",
   "metadata": {},
   "source": [
    "Conditional probabilty calculation and prior class (spam and ham)"
   ]
  },
  {
   "cell_type": "code",
   "execution_count": 17,
   "metadata": {},
   "outputs": [],
   "source": [
    "def train_naive_bayes(naive_bayes_train, alpha):\n",
    "    naive_bayes_class_0, naive_bayes_class_1 = group_class(naive_bayes_train)\n",
    "\n",
    "    prior_class_0 = (float(len(naive_bayes_class_0.index)) / (len(naive_bayes_class_0.index) + len(naive_bayes_class_1.index)))\n",
    "    prior_class_1 = (float(len(naive_bayes_class_1.index)) / (len(naive_bayes_class_0.index) + len(naive_bayes_class_1.index)))\n",
    "\n",
    "    probability_naive_bayes_0 = (naive_bayes_class_0.sum(axis=0, skipna=True) + alpha) / (\n",
    "                naive_bayes_class_0.values.sum() + len(naive_bayes_class_0.columns))\n",
    "\n",
    "    probability_naive_bayes_1 = (naive_bayes_class_1.sum(axis=0, skipna=True) + alpha) / (\n",
    "                naive_bayes_class_1.values.sum() + len(naive_bayes_class_1.columns))\n",
    "\n",
    "    return prior_class_0, prior_class_1, probability_naive_bayes_0, probability_naive_bayes_1"
   ]
  },
  {
   "cell_type": "markdown",
   "metadata": {},
   "source": [
    "For the given data predict classes P ωi | x j()∝P x|ωi()P ωi()=P ωi()P xi |ωj()j=1"
   ]
  },
  {
   "cell_type": "code",
   "execution_count": 18,
   "metadata": {},
   "outputs": [],
   "source": [
    "def predict_naive_bayes(prior_class_0, prior_class_1, probability_naive_bayes_0, probability_naive_bayes_1, naive_bayes_test):\n",
    "    naive_bayes_test = naive_bayes_test.drop(columns=['CLASS'])\n",
    "\n",
    "    predictions = []\n",
    "\n",
    "    for index, row in naive_bayes_test.iterrows():\n",
    "        row_prediction_0 = prior_class_0\n",
    "        row_prediction_1 = prior_class_1\n",
    "        i = 0\n",
    "        for item in row:\n",
    "            if item != 0:\n",
    "                row_prediction_0 = row_prediction_0 * probability_naive_bayes_0.iloc[i]\n",
    "                row_prediction_1 = row_prediction_1 * probability_naive_bayes_1.iloc[i]\n",
    "            i = i + 1\n",
    "\n",
    "        if row_prediction_0 >= row_prediction_1:\n",
    "            predictions.append(0)\n",
    "        else:\n",
    "            predictions.append(1)\n",
    "\n",
    "    return predictions"
   ]
  },
  {
   "cell_type": "markdown",
   "metadata": {},
   "source": [
    "To define and get f measure score that is required "
   ]
  },
  {
   "cell_type": "code",
   "execution_count": 19,
   "metadata": {},
   "outputs": [],
   "source": [
    "def accuracy_naive_bayes(naive_bayes_predictions, naive_bayes_act_class):\n",
    "    TP, TN, FP, FN = 0.0, 0.0, 0.0, 0.0\n",
    "\n",
    "    for p, a in it.zip_longest(naive_bayes_predictions, naive_bayes_act_class):\n",
    "        if p == 0 and a == 0:\n",
    "            TP = TP + 1\n",
    "        elif p == 1 and a == 1:\n",
    "            TN = TN + 1\n",
    "        elif p == 0 and a == 1:\n",
    "            FP = FP + 1\n",
    "        elif p == 1 and a == 0:\n",
    "            FN = FN + 1\n",
    "    pre = TP / (TP + FP)\n",
    "    rec = TP / (TP + FN)\n",
    "    f_measure = (2 * pre * rec) / (pre + rec)\n",
    "    return f_measure\n"
   ]
  },
  {
   "cell_type": "markdown",
   "metadata": {},
   "source": [
    "Reading the subjects email file and implementing it"
   ]
  },
  {
   "cell_type": "code",
   "execution_count": 20,
   "metadata": {},
   "outputs": [],
   "source": [
    "sub = pd.read_csv('dbworld_subjects_stemmed.csv')\n",
    "sub = sub.drop(columns=['id'])\n",
    "sub_train = sub.sample(frac=0.8, random_state=70)\n",
    "sub_test = sub.drop(sub_train.index)\n",
    "prior_sub_class_0, prior_sub_class_1, probability_sub_0, probability_sub_1 = train_naive_bayes(sub_train, 1)\n",
    "sub_predictions = predict_naive_bayes(prior_sub_class_0, prior_sub_class_1, probability_sub_0, probability_sub_1, sub_test)\n",
    "sub_act_class = []"
   ]
  },
  {
   "cell_type": "markdown",
   "metadata": {},
   "source": [
    "Assiging label for each member, getting the f measure score "
   ]
  },
  {
   "cell_type": "code",
   "execution_count": 12,
   "metadata": {},
   "outputs": [
    {
     "name": "stdout",
     "output_type": "stream",
     "text": [
      "The f measure score for subjects: 1.0\n"
     ]
    }
   ],
   "source": [
    "for item in sub_test.iloc[:, -1]:\n",
    "    sub_act_class.append(item)\n",
    "sub_f_measure = accuracy_naive_bayes(sub_predictions, sub_act_class)\n",
    "print (\"The f measure score for subjects:\",sub_f_measure)"
   ]
  },
  {
   "cell_type": "code",
   "execution_count": 13,
   "metadata": {},
   "outputs": [],
   "source": [
    "bod = pd.read_csv('dbworld_bodies_stemmed.csv')\n",
    "bod = bod.drop(columns=['id'])\n",
    "bod_train = bod.sample(frac=0.8, random_state=70)\n",
    "bod_test = bod.drop(bod_train.index)\n",
    "prior_bod_class_0, prior_bod_class_1, probability_bod_0, probability_bod_1 = train_naive_bayes(bod_train, 1)\n",
    "bod_predictions = predict_naive_bayes(prior_bod_class_0, prior_bod_class_1, probability_bod_0, probability_bod_1, bod_test)\n",
    "bod_act_class = []"
   ]
  },
  {
   "cell_type": "code",
   "execution_count": 14,
   "metadata": {},
   "outputs": [
    {
     "name": "stdout",
     "output_type": "stream",
     "text": [
      "The f measure score for body: 0.8571428571428571\n"
     ]
    }
   ],
   "source": [
    "for item in bod_test.iloc[:, -1]:\n",
    "    bod_act_class.append(item)\n",
    "bod_f_measure = accuracy_naive_bayes(bod_predictions, bod_act_class)\n",
    "print (\"The f measure score for body:\",bod_f_measure)"
   ]
  }
 ],
 "metadata": {
  "kernelspec": {
   "display_name": "Python 3",
   "language": "python",
   "name": "python3"
  },
  "language_info": {
   "codemirror_mode": {
    "name": "ipython",
    "version": 3
   },
   "file_extension": ".py",
   "mimetype": "text/x-python",
   "name": "python",
   "nbconvert_exporter": "python",
   "pygments_lexer": "ipython3",
   "version": "3.7.6"
  }
 },
 "nbformat": 4,
 "nbformat_minor": 4
}
